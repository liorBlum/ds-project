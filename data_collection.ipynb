{
    "cells": [
        {
            "cell_type": "markdown",
            "source": [
                "# Data Collection"
            ],
            "metadata": {}
        },
        {
            "cell_type": "markdown",
            "source": [
                "The data used in this project is taken from \"Million Song Dataset\". It consists of:\r\n",
                "\r\n",
                "1. From <https://www.kaggle.com/c/msdchallenge/data>:\r\n",
                "    1. kaggle_visible_evaluation_triplets - Listening histories of 110,000 users (including plays count for each track)\r\n",
                "    2. taste_profile_song_to_tracks - A mapping between profile songs to MSD tracks\r\n",
                "    3. kaggle_songs - An indexed list of all songs\r\n",
                "    4. kaggle_users - A list of all users"
            ],
            "metadata": {}
        },
        {
            "cell_type": "code",
            "execution_count": 6,
            "source": [
                "import pandas as pd\r\n",
                "\r\n",
                "train = pd.read_table(\"./msd/input/kaggle_visible_evaluation_triplets.txt\", header=0, names=['userID', 'songID', 'playsCount'])\r\n",
                "train.head()"
            ],
            "outputs": [
                {
                    "output_type": "execute_result",
                    "data": {
                        "text/plain": [
                            "                                     userID              songID  playsCount\n",
                            "0  fd50c4007b68a3737fe052d5a4f78ce8aa117f3d  SOEGIYH12A6D4FC0E3           1\n",
                            "1  fd50c4007b68a3737fe052d5a4f78ce8aa117f3d  SOFLJQZ12A6D4FADA6           1\n",
                            "2  fd50c4007b68a3737fe052d5a4f78ce8aa117f3d  SOHTKMO12AB01843B0           1\n",
                            "3  fd50c4007b68a3737fe052d5a4f78ce8aa117f3d  SODQZCY12A6D4F9D11           1\n",
                            "4  fd50c4007b68a3737fe052d5a4f78ce8aa117f3d  SOXLOQG12AF72A2D55           1"
                        ],
                        "text/html": [
                            "<div>\n",
                            "<style scoped>\n",
                            "    .dataframe tbody tr th:only-of-type {\n",
                            "        vertical-align: middle;\n",
                            "    }\n",
                            "\n",
                            "    .dataframe tbody tr th {\n",
                            "        vertical-align: top;\n",
                            "    }\n",
                            "\n",
                            "    .dataframe thead th {\n",
                            "        text-align: right;\n",
                            "    }\n",
                            "</style>\n",
                            "<table border=\"1\" class=\"dataframe\">\n",
                            "  <thead>\n",
                            "    <tr style=\"text-align: right;\">\n",
                            "      <th></th>\n",
                            "      <th>userID</th>\n",
                            "      <th>songID</th>\n",
                            "      <th>playsCount</th>\n",
                            "    </tr>\n",
                            "  </thead>\n",
                            "  <tbody>\n",
                            "    <tr>\n",
                            "      <th>0</th>\n",
                            "      <td>fd50c4007b68a3737fe052d5a4f78ce8aa117f3d</td>\n",
                            "      <td>SOEGIYH12A6D4FC0E3</td>\n",
                            "      <td>1</td>\n",
                            "    </tr>\n",
                            "    <tr>\n",
                            "      <th>1</th>\n",
                            "      <td>fd50c4007b68a3737fe052d5a4f78ce8aa117f3d</td>\n",
                            "      <td>SOFLJQZ12A6D4FADA6</td>\n",
                            "      <td>1</td>\n",
                            "    </tr>\n",
                            "    <tr>\n",
                            "      <th>2</th>\n",
                            "      <td>fd50c4007b68a3737fe052d5a4f78ce8aa117f3d</td>\n",
                            "      <td>SOHTKMO12AB01843B0</td>\n",
                            "      <td>1</td>\n",
                            "    </tr>\n",
                            "    <tr>\n",
                            "      <th>3</th>\n",
                            "      <td>fd50c4007b68a3737fe052d5a4f78ce8aa117f3d</td>\n",
                            "      <td>SODQZCY12A6D4F9D11</td>\n",
                            "      <td>1</td>\n",
                            "    </tr>\n",
                            "    <tr>\n",
                            "      <th>4</th>\n",
                            "      <td>fd50c4007b68a3737fe052d5a4f78ce8aa117f3d</td>\n",
                            "      <td>SOXLOQG12AF72A2D55</td>\n",
                            "      <td>1</td>\n",
                            "    </tr>\n",
                            "  </tbody>\n",
                            "</table>\n",
                            "</div>"
                        ]
                    },
                    "metadata": {},
                    "execution_count": 6
                }
            ],
            "metadata": {}
        },
        {
            "cell_type": "markdown",
            "source": [
                "2. From <http://millionsongdataset.com/pages/getting-dataset/>:\r\n",
                "    1. MillionSongSubset - Complete data about 10,000 tracks (randomly selected from the complete Million Song Dataset)\r\n",
                "\r\n",
                "* Note: tracks data is in HDF5 format and is parsed using [hdf5_getters.py](https://github.com/tbertinmahieux/MSongsDB/blob/master/PythonSrc/hdf5_getters.py) "
            ],
            "metadata": {}
        },
        {
            "cell_type": "code",
            "execution_count": 14,
            "source": [
                "import pandas as pd\r\n",
                "import numpy as np\r\n",
                "import msd.hdf5_getters as getter\r\n",
                "\r\n",
                "# For example, the track 'TRADCBA128F92E7161'\r\n",
                "h5 = getter.open_h5_file_read('./msd/input/songs_data/TRADCBA128F92E7161.h5')\r\n",
                "meta_data_arr = np.array(h5.root.metadata.songs.cols)\r\n",
                "analysis_arr = np.array(h5.root.analysis.songs.cols)\r\n",
                "\r\n",
                "pd.DataFrame(analysis_arr)\r\n"
            ],
            "outputs": [
                {
                    "output_type": "execute_result",
                    "data": {
                        "text/plain": [
                            "   analysis_sample_rate                            audio_md5  danceability  \\\n",
                            "0                 22050  b'0a342586a9f741c59a30fc314128996b'           0.0   \n",
                            "\n",
                            "   duration  end_of_fade_in  energy  idx_bars_confidence  idx_bars_start  \\\n",
                            "0  140.7473           0.156     0.0                    0               0   \n",
                            "\n",
                            "   idx_beats_confidence  idx_beats_start  ...  key  key_confidence  loudness  \\\n",
                            "0                     0                0  ...    7           0.293   -19.602   \n",
                            "\n",
                            "   mode  mode_confidence  start_of_fade_out   tempo  time_signature  \\\n",
                            "0     1              0.3            134.206  64.141               1   \n",
                            "\n",
                            "   time_signature_confidence               track_id  \n",
                            "0                      0.747  b'TRADCBA128F92E7161'  \n",
                            "\n",
                            "[1 rows x 31 columns]"
                        ],
                        "text/html": [
                            "<div>\n",
                            "<style scoped>\n",
                            "    .dataframe tbody tr th:only-of-type {\n",
                            "        vertical-align: middle;\n",
                            "    }\n",
                            "\n",
                            "    .dataframe tbody tr th {\n",
                            "        vertical-align: top;\n",
                            "    }\n",
                            "\n",
                            "    .dataframe thead th {\n",
                            "        text-align: right;\n",
                            "    }\n",
                            "</style>\n",
                            "<table border=\"1\" class=\"dataframe\">\n",
                            "  <thead>\n",
                            "    <tr style=\"text-align: right;\">\n",
                            "      <th></th>\n",
                            "      <th>analysis_sample_rate</th>\n",
                            "      <th>audio_md5</th>\n",
                            "      <th>danceability</th>\n",
                            "      <th>duration</th>\n",
                            "      <th>end_of_fade_in</th>\n",
                            "      <th>energy</th>\n",
                            "      <th>idx_bars_confidence</th>\n",
                            "      <th>idx_bars_start</th>\n",
                            "      <th>idx_beats_confidence</th>\n",
                            "      <th>idx_beats_start</th>\n",
                            "      <th>...</th>\n",
                            "      <th>key</th>\n",
                            "      <th>key_confidence</th>\n",
                            "      <th>loudness</th>\n",
                            "      <th>mode</th>\n",
                            "      <th>mode_confidence</th>\n",
                            "      <th>start_of_fade_out</th>\n",
                            "      <th>tempo</th>\n",
                            "      <th>time_signature</th>\n",
                            "      <th>time_signature_confidence</th>\n",
                            "      <th>track_id</th>\n",
                            "    </tr>\n",
                            "  </thead>\n",
                            "  <tbody>\n",
                            "    <tr>\n",
                            "      <th>0</th>\n",
                            "      <td>22050</td>\n",
                            "      <td>b'0a342586a9f741c59a30fc314128996b'</td>\n",
                            "      <td>0.0</td>\n",
                            "      <td>140.7473</td>\n",
                            "      <td>0.156</td>\n",
                            "      <td>0.0</td>\n",
                            "      <td>0</td>\n",
                            "      <td>0</td>\n",
                            "      <td>0</td>\n",
                            "      <td>0</td>\n",
                            "      <td>...</td>\n",
                            "      <td>7</td>\n",
                            "      <td>0.293</td>\n",
                            "      <td>-19.602</td>\n",
                            "      <td>1</td>\n",
                            "      <td>0.3</td>\n",
                            "      <td>134.206</td>\n",
                            "      <td>64.141</td>\n",
                            "      <td>1</td>\n",
                            "      <td>0.747</td>\n",
                            "      <td>b'TRADCBA128F92E7161'</td>\n",
                            "    </tr>\n",
                            "  </tbody>\n",
                            "</table>\n",
                            "<p>1 rows × 31 columns</p>\n",
                            "</div>"
                        ]
                    },
                    "metadata": {},
                    "execution_count": 14
                }
            ],
            "metadata": {}
        }
    ],
    "metadata": {
        "orig_nbformat": 4,
        "language_info": {
            "name": "python",
            "version": "3.8.8",
            "mimetype": "text/x-python",
            "codemirror_mode": {
                "name": "ipython",
                "version": 3
            },
            "pygments_lexer": "ipython3",
            "nbconvert_exporter": "python",
            "file_extension": ".py"
        },
        "kernelspec": {
            "name": "python3",
            "display_name": "Python 3.8.8 64-bit ('base': conda)"
        },
        "interpreter": {
            "hash": "3c4c88167965e931c660cd0b1851e16f5ac6a35adaa2a16ee01eeab9f3dced50"
        }
    },
    "nbformat": 4,
    "nbformat_minor": 2
}