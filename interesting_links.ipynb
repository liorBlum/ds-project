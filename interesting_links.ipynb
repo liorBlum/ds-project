{
 "cells": [
  {
   "cell_type": "markdown",
   "source": [
    "# Interesting Links"
   ],
   "metadata": {}
  },
  {
   "cell_type": "markdown",
   "source": [
    "* [A Machine Learning Deep Dive into My Spotify Data.](https://opendatascience.com/a-machine-learning-deep-dive-into-my-spotify-data/)\r\n",
    "\r\n",
    "\r\n",
    "* [Project Instructions - Course sites](https://opal.openu.ac.il/mod/page/view.php?id=5823139)\r\n",
    "\r\n",
    "\r\n",
    "* [lyrics-sentiment/Spotify_Dataset.ipynb at master · EdenBD/lyrics-sentiment](https://github.com/EdenBD/lyrics-sentiment/blob/master/Spotify_Dataset.ipynb)\r\n",
    "\r\n",
    "\r\n",
    "* [Frontiers | Deep Learning in Music Recommendation Systems](https://www.frontiersin.org/articles/10.3389/fams.2019.00044/full)\r\n",
    "\r\n",
    "\r\n",
    "* [Web API | Spotify for Developers](https://developer.spotify.com/documentation/web-api/)\r\n",
    "\r\n",
    "* [ELIFTECH | Blog | All you need to know about a music recommendation system](https://www.eliftech.com/blog/145-all-you-need-to-know-about-a-music-recommendation-system-with-a-step-by-step-guide-to-creating-it)\r\n"
   ],
   "metadata": {}
  }
 ],
 "metadata": {
  "orig_nbformat": 4,
  "language_info": {
   "name": "python"
  }
 },
 "nbformat": 4,
 "nbformat_minor": 2
}