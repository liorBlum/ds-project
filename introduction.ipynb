{
 "cells": [
  {
   "cell_type": "markdown",
   "metadata": {},
   "source": [
    "# Introduction"
   ]
  },
  {
   "cell_type": "markdown",
   "metadata": {},
   "source": [
    "The main goal of our project is to demonstrate a music recommendation system that is based on audio features and lyrics analysis of tracks. The system uses machine learning techniques in order to predict which songs each user would probably like."
   ]
  },
  {
   "cell_type": "markdown",
   "metadata": {},
   "source": [
    "The main usage of such systems is in music streaming apps platforms (such as Spotify, Apple Music, Youtube Music...). \r\n",
    "Music recommendation systems have various benefits:\r\n",
    "1. Increasing satisfaction, immersion and engagement of users\r\n",
    "2. Making the platform maximum personalized\r\n",
    "3. Making it convenient to use the platform, with no need to waste time finding new songs \r\n",
    "4. Get insights about users’ preferences and make data-based marketing decisions"
   ]
  },
  {
   "cell_type": "markdown",
   "metadata": {},
   "source": [
    "## Recommendation system types"
   ]
  },
  {
   "cell_type": "markdown",
   "metadata": {},
   "source": [
    "There are 2 most popular recommendation systems:\r\n",
    "\r\n",
    "* content-based (recommendations based on the similarity of content or, in our case — attributes of two songs)\r\n",
    "* collaborative (recommendations based on similarity of users’ preferences and using matrices with ratings for each content piece, in our case — a song)\r\n",
    "\r\n",
    "The content-based approach relies on the similarity of particular items. While using a streaming music service, a user puts likes or dislikes on the songs, creating playlists, or defining beforehand his/her favorite songs/genres/artists. The main idea of a content-based recommendation system is to extract metadata and/or data of songs that a user loved, compare them with metadata/data of other songs in the sevice's library, and based on this, recommend similar songs to the user.\r\n",
    "\r\n",
    "In turn, a collaborative system is built on the basis of users’ overlapping preferences and ratings of songs. It assumes that if user A and user B express similar preferences, similar songs can be recommended to them, meaning that if user A likes a particular song, it is likely that this song will also appeal to user B, and vice versa."
   ]
  },
  {
   "cell_type": "markdown",
   "metadata": {},
   "source": [
    "![Two most popular recommendation systems](./resources/music_recomm_filtering.png)"
   ]
  },
  {
   "cell_type": "markdown",
   "metadata": {},
   "source": [
    "## Our Emphasis"
   ]
  },
  {
   "cell_type": "markdown",
   "metadata": {},
   "source": [
    "Caollaborative filtering is widely used, not only in music services, but in shopping, video-streaming, and social networks. Its assumption - that people who agreed in the past will agree in the future - is true in many occasions in music too. \r\n",
    "However, it has some major drawbacks (generally and specifically in music):\r\n",
    "\r\n",
    "* Cold Start - For a new user, there isn't enough data to make accurate recommendations. For a new song/artist, there are not enough people that have listened to the song, so it will not be recommended.\r\n",
    "\r\n",
    "* Popularity Bias - Recommendations are biased towards popularity, and limits exposure of less-popular, underrated and indie songs and artists (not only newcomers).\r\n",
    "\r\n",
    "* Cultural Barrier - Music is an international language. However, in this method users are almost exclusively recommended with songs of their own language and country (with only American/English as the exception). 'Similar Users' for Caollaborative filtering technique primarily means users from the same region, mainly due to their initial playlists or region&language settings, which might cause users to miss songs they could've liked only because they are foreign."
   ]
  },
  {
   "cell_type": "markdown",
   "metadata": {},
   "source": [
    "Therefore, we decided to emphasize on content-based filtering which helps tackling the two issues explained above.\r\n",
    "In the music field, the 'content' which we'll use consists of:\r\n",
    "1. Audio features (key, liveness, tempo, etc.)\r\n",
    "2. Lyrics analysis\r\n",
    "\r\n",
    "Recommendation system based on this kind of content does not suffer as much from cold start:\r\n",
    "* From the user's point-of-view, as soon as he chooses a single genre or a song/artist which he loves, content-based filtering can recommend him similar songs to his choices based on their content (much faster and more accurate than trying to find similar users, with their complicated tastes, based on such little data).\r\n",
    "* From the artist's point-of view, as soon as he/she publishes a song, its features can be analyzed and it can be recommended to users who love similar songs, even if no one else has listened to it yet.\r\n",
    "\r\n",
    "Content-based filtering also does not discriminate unpopoular songs/artists or foreign music, since it purely relies on the essence of music - melody and lyrics. Therefore, it encourages users to broaden their horizons - musically and culturally."
   ]
  }
 ],
 "metadata": {
  "interpreter": {
   "hash": "3c4c88167965e931c660cd0b1851e16f5ac6a35adaa2a16ee01eeab9f3dced50"
  },
  "kernelspec": {
   "display_name": "Python 3",
   "language": "python",
   "name": "python3"
  },
  "language_info": {
   "codemirror_mode": {
    "name": "ipython",
    "version": 3
   },
   "file_extension": ".py",
   "mimetype": "text/x-python",
   "name": "python",
   "nbconvert_exporter": "python",
   "pygments_lexer": "ipython3",
   "version": "3.8.8"
  }
 },
 "nbformat": 4,
 "nbformat_minor": 4
}
