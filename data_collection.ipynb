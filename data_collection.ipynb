{
    "cells": [
        {
            "cell_type": "markdown",
            "source": [
                "# Data Collection"
            ],
            "metadata": {}
        },
        {
            "cell_type": "markdown",
            "source": [
                "The data used in this project is taken from \"Million Song Dataset\" project. It consists of:\r\n",
                "\r\n",
                "1. From <https://www.kaggle.com/c/msdchallenge/data>:\r\n",
                "   1. train_triplets - Complete listening histories of ~1 Million users. **Used as the training set**.\r\n",
                "   3. taste_profile_song_to_tracks - A mapping between profile songs to MSD tracks\r\n",
                "   4. kaggle_songs - An indexed list of all songs\r\n",
                "   5. kaggle_users - A list of all users"
            ],
            "metadata": {}
        },
        {
            "cell_type": "code",
            "execution_count": 1,
            "source": [
                "import pandas as pd\r\n",
                "\r\n",
                "train = pd.read_table(\"./msd/input/train_triplets.txt\", header=0, names=['userID', 'songID', 'playsCount'])\r\n",
                "train.head()"
            ],
            "outputs": [
                {
                    "output_type": "execute_result",
                    "data": {
                        "text/plain": [
                            "                                     userID              songID  playsCount\n",
                            "0  b80344d063b5ccb3212f76538f3d9e43d87dca9e  SOAPDEY12A81C210A9           1\n",
                            "1  b80344d063b5ccb3212f76538f3d9e43d87dca9e  SOBBMDR12A8C13253B           2\n",
                            "2  b80344d063b5ccb3212f76538f3d9e43d87dca9e  SOBFNSP12AF72A0E22           1\n",
                            "3  b80344d063b5ccb3212f76538f3d9e43d87dca9e  SOBFOVM12A58A7D494           1\n",
                            "4  b80344d063b5ccb3212f76538f3d9e43d87dca9e  SOBNZDC12A6D4FC103           1"
                        ],
                        "text/html": [
                            "<div>\n",
                            "<style scoped>\n",
                            "    .dataframe tbody tr th:only-of-type {\n",
                            "        vertical-align: middle;\n",
                            "    }\n",
                            "\n",
                            "    .dataframe tbody tr th {\n",
                            "        vertical-align: top;\n",
                            "    }\n",
                            "\n",
                            "    .dataframe thead th {\n",
                            "        text-align: right;\n",
                            "    }\n",
                            "</style>\n",
                            "<table border=\"1\" class=\"dataframe\">\n",
                            "  <thead>\n",
                            "    <tr style=\"text-align: right;\">\n",
                            "      <th></th>\n",
                            "      <th>userID</th>\n",
                            "      <th>songID</th>\n",
                            "      <th>playsCount</th>\n",
                            "    </tr>\n",
                            "  </thead>\n",
                            "  <tbody>\n",
                            "    <tr>\n",
                            "      <th>0</th>\n",
                            "      <td>b80344d063b5ccb3212f76538f3d9e43d87dca9e</td>\n",
                            "      <td>SOAPDEY12A81C210A9</td>\n",
                            "      <td>1</td>\n",
                            "    </tr>\n",
                            "    <tr>\n",
                            "      <th>1</th>\n",
                            "      <td>b80344d063b5ccb3212f76538f3d9e43d87dca9e</td>\n",
                            "      <td>SOBBMDR12A8C13253B</td>\n",
                            "      <td>2</td>\n",
                            "    </tr>\n",
                            "    <tr>\n",
                            "      <th>2</th>\n",
                            "      <td>b80344d063b5ccb3212f76538f3d9e43d87dca9e</td>\n",
                            "      <td>SOBFNSP12AF72A0E22</td>\n",
                            "      <td>1</td>\n",
                            "    </tr>\n",
                            "    <tr>\n",
                            "      <th>3</th>\n",
                            "      <td>b80344d063b5ccb3212f76538f3d9e43d87dca9e</td>\n",
                            "      <td>SOBFOVM12A58A7D494</td>\n",
                            "      <td>1</td>\n",
                            "    </tr>\n",
                            "    <tr>\n",
                            "      <th>4</th>\n",
                            "      <td>b80344d063b5ccb3212f76538f3d9e43d87dca9e</td>\n",
                            "      <td>SOBNZDC12A6D4FC103</td>\n",
                            "      <td>1</td>\n",
                            "    </tr>\n",
                            "  </tbody>\n",
                            "</table>\n",
                            "</div>"
                        ]
                    },
                    "metadata": {},
                    "execution_count": 1
                }
            ],
            "metadata": {}
        },
        {
            "cell_type": "markdown",
            "source": [
                "2. From <http://millionsongdataset.com/challenge/#data1>:\r\n",
                "   1. year1_test_triplets_visible - Incomplete (half) listening histories of 100,000 users (including plays count for each track). **Used as the test set**\r\n",
                "   2. year1_test_triplets_hidden - The other half of litening histories of the 100,000 users. **Used to eavaluate the test predictions**"
            ],
            "metadata": {}
        },
        {
            "cell_type": "markdown",
            "source": [
                "3. From <http://millionsongdataset.com/pages/getting-dataset/>:\r\n",
                "    1. MillionSongSubset - Complete data about 10,000 tracks (randomly selected from the complete Million Song Dataset)\r\n",
                "\r\n",
                "* Note: tracks data is in HDF5 format and is parsed using [hdf5_getters.py](https://github.com/tbertinmahieux/MSongsDB/blob/master/PythonSrc/hdf5_getters.py) "
            ],
            "metadata": {}
        },
        {
            "cell_type": "code",
            "execution_count": 9,
            "source": [
                "import pandas as pd\r\n",
                "import numpy as np\r\n",
                "import msd.hdf5_getters as getter\r\n",
                "\r\n",
                "# For example, the track 'TRADCBA128F92E7161'\r\n",
                "h5 = getter.open_h5_file_read('./msd/input/songs_data/TRADCBA128F92E7161.h5')\r\n",
                "meta_data_arr = np.array(h5.root.metadata.songs.cols)\r\n",
                "analysis_arr = np.array(h5.root.analysis.songs.cols)\r\n",
                "\r\n",
                "pd.DataFrame(analysis_arr)\r\n"
            ],
            "outputs": [],
            "metadata": {}
        },
        {
            "cell_type": "markdown",
            "source": [
                "3. From <http://millionsongdataset.com/musixmatch/>:\r\n",
                "   1. musiXmatch Dataset - lyrics for many of the MSD songs, in bags-of-words format (for each song, a word-count for a dictionary of the top 5,000 words across the set)"
            ],
            "metadata": {}
        },
        {
            "cell_type": "code",
            "execution_count": null,
            "source": [],
            "outputs": [],
            "metadata": {}
        }
    ],
    "metadata": {
        "orig_nbformat": 4,
        "language_info": {
            "name": "python",
            "version": "3.8.8",
            "mimetype": "text/x-python",
            "codemirror_mode": {
                "name": "ipython",
                "version": 3
            },
            "pygments_lexer": "ipython3",
            "nbconvert_exporter": "python",
            "file_extension": ".py"
        },
        "kernelspec": {
            "name": "python3",
            "display_name": "Python 3.8.8 64-bit ('base': conda)"
        },
        "interpreter": {
            "hash": "3c4c88167965e931c660cd0b1851e16f5ac6a35adaa2a16ee01eeab9f3dced50"
        }
    },
    "nbformat": 4,
    "nbformat_minor": 2
}