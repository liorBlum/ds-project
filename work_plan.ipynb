{
 "cells": [
  {
   "cell_type": "markdown",
   "source": [
    "## General Work plan (in my opinion): \r\n",
    "1. ### Give an intro about Collaborative Filtering, Content-based filtering and music recommendations.\r\n",
    "2. ### Raise an hypothesis that content-based filtering (analyzing audio features&lyrics) can increase the recommendation/prediction model's accuracy. \r\n",
    "3. ### Fetch data (audio features and lyrics of songs in the given playlists)\r\n",
    "4. ### Visulaize the data in some pretty ways.\r\n",
    "5. ### Implement simple Collaborative Filtering or take it from the web (probably doesn't require machine learning)\r\n",
    "6. ### [Perhaps add other songs from the same artists/albums that a user loves to the prediction in order to make it better.]\r\n",
    "7. ### Using machine learning (probably unsupervised or a combination with supervised), make clusters of similar songs based on audio features. Build a predictor that returns similar songs for each user based on the created clusters and his/her given playlist. Compare to previous method.\r\n",
    "8. ### Repeat the last step, but with lyrics (songs with 'similar' lyrics).\r\n",
    "   1. Unlike audio features, with the lyrics we need to find a way, using NLP techniques, to create numerical features out of the data. Maybe sentiments, themes or just frequent words.\r\n",
    "   2. Consider translating lyrics for foreign songs.\r\n",
    "9. ### Compare methods and combinations of them, visualize them and find the best one."
   ],
   "metadata": {}
  }
 ],
 "metadata": {
  "orig_nbformat": 4,
  "language_info": {
   "name": "python"
  }
 },
 "nbformat": 4,
 "nbformat_minor": 2
}