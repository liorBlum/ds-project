{
    "cells": [
        {
            "cell_type": "markdown",
            "source": [
                "# Exploratory Data Analysis"
            ],
            "metadata": {}
        },
        {
            "cell_type": "markdown",
            "source": [
                "# TODO: \r\n",
                "1. We raise an hypothesis that content-based filtering (analyzing audio features&lyrics) can increase the model's accuracy. \r\n",
                "2. Implement simple Collaborative Filtering or take it from the web (probably doesn't require machine learning)\r\n",
                "3. Using machine learning (probably unsupervised), make clusters of similar songs/artists based on audio features. Build a predictor that returns similar songs for each user based on the created clusters. Compare to previous method.\r\n",
                "4. Repeat the last step, but with lyrics (songs with similar frequent lyrics).\r\n",
                "   1. Consider translating the frequent lyrics, in order to avoid again the language barrier.\r\n",
                "5. Perhaps add other songs from the same artists that a user loves to the prediction.\r\n",
                "6. Compare methods and combinations of them, visualize them and find the best one."
            ],
            "metadata": {}
        }
    ],
    "metadata": {
        "orig_nbformat": 4,
        "language_info": {
            "name": "python"
        }
    },
    "nbformat": 4,
    "nbformat_minor": 2
}