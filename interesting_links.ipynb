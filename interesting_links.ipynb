{
 "cells": [
  {
   "cell_type": "markdown",
   "source": [
    "# Interesting Links"
   ],
   "metadata": {}
  },
  {
   "cell_type": "markdown",
   "source": [
    "* [A Machine Learning Deep Dive into My Spotify Data.](https://opendatascience.com/a-machine-learning-deep-dive-into-my-spotify-data/)\r\n",
    "* [Project Instructions - Course sites](https://opal.openu.ac.il/mod/page/view.php?id=5823139)\r\n",
    "* [lyrics-sentiment/Spotify_Dataset.ipynb at master · EdenBD/lyrics-sentiment](https://github.com/EdenBD/lyrics-sentiment/blob/master/Spotify_Dataset.ipynb)\r\n",
    "* [Frontiers | Deep Learning in Music Recommendation Systems](https://www.frontiersin.org/articles/10.3389/fams.2019.00044/full)\r\n",
    "* [Web API | Spotify for Developers](https://developer.spotify.com/documentation/web-api/)\r\n",
    "* [ELIFTECH | Blog | All you need to know about a music recommendation system](https://www.eliftech.com/blog/145-all-you-need-to-know-about-a-music-recommendation-system-with-a-step-by-step-guide-to-creating-it)\r\n",
    "* [Breaking the Collaborative Filtering Ceiling - MSD Challenge](http://millionsongdataset.com/blog/12-5-12-breaking-collaborative-filtering-ceiling/)\r\n",
    "* [Tips and pointers about better predictions](http://millionsongdataset.com/blog/12-5-12-breaking-collaborative-filtering-ceiling/)\r\n",
    "* [Topic Modeling in songs lyrics using LDA example](https://tim-denzler.medium.com/whats-in-a-song-using-lda-to-find-topics-in-over-120-000-songs-53785767b692)\r\n",
    "* [LDA model tuning](https://towardsdatascience.com/evaluate-topic-model-in-python-latent-dirichlet-allocation-lda-7d57484bb5d0)\r\n",
    "* [Determining number of topics in Topic Modeling](https://www.datacamp.com/community/tutorials/discovering-hidden-topics-python)\r\n",
    "* [KMeans algorithm and evaluation](https://towardsdatascience.com/k-means-clustering-algorithm-applications-evaluation-methods-and-drawbacks-aa03e644b48a)"
   ],
   "metadata": {}
  }
 ],
 "metadata": {
  "orig_nbformat": 4,
  "language_info": {
   "name": "python"
  }
 },
 "nbformat": 4,
 "nbformat_minor": 2
}