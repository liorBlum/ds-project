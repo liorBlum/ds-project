{
    "cells": [
        {
            "cell_type": "markdown",
            "source": [
                "# Data Collection"
            ],
            "metadata": {}
        },
        {
            "cell_type": "markdown",
            "source": [
                "- Songs lyrics corpus"
            ],
            "metadata": {}
        },
        {
            "cell_type": "markdown",
            "source": [
                "The data used in this project is taken from \"Million Song Dataset\" project. It consists of:\r\n",
                "\r\n",
                "1. From <https://www.kaggle.com/c/msdchallenge/data>:\r\n",
                "   1. train_triplets - Complete listening histories of ~1 Million users. **Used as the training set**.\r\n",
                "   3. taste_profile_song_to_tracks - A mapping between profile songs to MSD tracks\r\n",
                "   4. kaggle_songs - An indexed list of all songs\r\n",
                "   5. kaggle_users - A list of all users"
            ],
            "metadata": {}
        },
        {
            "cell_type": "code",
            "execution_count": 1,
            "source": [
                "import pandas as pd\r\n",
                "\r\n",
                "train = pd.read_table(\"./msd/input/train_triplets.txt\", header=0, names=['userID', 'songID', 'playsCount'])\r\n",
                "train.head()"
            ],
            "outputs": [
                {
                    "output_type": "execute_result",
                    "data": {
                        "text/plain": [
                            "                                     userID              songID  playsCount\n",
                            "0  b80344d063b5ccb3212f76538f3d9e43d87dca9e  SOAPDEY12A81C210A9           1\n",
                            "1  b80344d063b5ccb3212f76538f3d9e43d87dca9e  SOBBMDR12A8C13253B           2\n",
                            "2  b80344d063b5ccb3212f76538f3d9e43d87dca9e  SOBFNSP12AF72A0E22           1\n",
                            "3  b80344d063b5ccb3212f76538f3d9e43d87dca9e  SOBFOVM12A58A7D494           1\n",
                            "4  b80344d063b5ccb3212f76538f3d9e43d87dca9e  SOBNZDC12A6D4FC103           1"
                        ],
                        "text/html": [
                            "<div>\n",
                            "<style scoped>\n",
                            "    .dataframe tbody tr th:only-of-type {\n",
                            "        vertical-align: middle;\n",
                            "    }\n",
                            "\n",
                            "    .dataframe tbody tr th {\n",
                            "        vertical-align: top;\n",
                            "    }\n",
                            "\n",
                            "    .dataframe thead th {\n",
                            "        text-align: right;\n",
                            "    }\n",
                            "</style>\n",
                            "<table border=\"1\" class=\"dataframe\">\n",
                            "  <thead>\n",
                            "    <tr style=\"text-align: right;\">\n",
                            "      <th></th>\n",
                            "      <th>userID</th>\n",
                            "      <th>songID</th>\n",
                            "      <th>playsCount</th>\n",
                            "    </tr>\n",
                            "  </thead>\n",
                            "  <tbody>\n",
                            "    <tr>\n",
                            "      <th>0</th>\n",
                            "      <td>b80344d063b5ccb3212f76538f3d9e43d87dca9e</td>\n",
                            "      <td>SOAPDEY12A81C210A9</td>\n",
                            "      <td>1</td>\n",
                            "    </tr>\n",
                            "    <tr>\n",
                            "      <th>1</th>\n",
                            "      <td>b80344d063b5ccb3212f76538f3d9e43d87dca9e</td>\n",
                            "      <td>SOBBMDR12A8C13253B</td>\n",
                            "      <td>2</td>\n",
                            "    </tr>\n",
                            "    <tr>\n",
                            "      <th>2</th>\n",
                            "      <td>b80344d063b5ccb3212f76538f3d9e43d87dca9e</td>\n",
                            "      <td>SOBFNSP12AF72A0E22</td>\n",
                            "      <td>1</td>\n",
                            "    </tr>\n",
                            "    <tr>\n",
                            "      <th>3</th>\n",
                            "      <td>b80344d063b5ccb3212f76538f3d9e43d87dca9e</td>\n",
                            "      <td>SOBFOVM12A58A7D494</td>\n",
                            "      <td>1</td>\n",
                            "    </tr>\n",
                            "    <tr>\n",
                            "      <th>4</th>\n",
                            "      <td>b80344d063b5ccb3212f76538f3d9e43d87dca9e</td>\n",
                            "      <td>SOBNZDC12A6D4FC103</td>\n",
                            "      <td>1</td>\n",
                            "    </tr>\n",
                            "  </tbody>\n",
                            "</table>\n",
                            "</div>"
                        ]
                    },
                    "metadata": {},
                    "execution_count": 1
                }
            ],
            "metadata": {}
        },
        {
            "cell_type": "markdown",
            "source": [
                "2. From <http://millionsongdataset.com/challenge/#data1>:\r\n",
                "   1. year1_test_triplets_visible - Incomplete (half) listening histories of 100,000 users (including plays count for each track). **Used as the test set**\r\n",
                "   2. year1_test_triplets_hidden - The other half of litening histories of the 100,000 users. **Used to eavaluate the test predictions**"
            ],
            "metadata": {}
        },
        {
            "cell_type": "markdown",
            "source": [
                "3. From <http://millionsongdataset.com/pages/getting-dataset/>:\r\n",
                "    1. MillionSongSubset - Complete data about 10,000 tracks (randomly selected from the complete Million Song Dataset)\r\n",
                "\r\n",
                "* Note: tracks data is in HDF5 format and is parsed using [hdf5_getters.py](https://github.com/tbertinmahieux/MSongsDB/blob/master/PythonSrc/hdf5_getters.py) "
            ],
            "metadata": {}
        },
        {
            "cell_type": "code",
            "execution_count": 2,
            "source": [
                "import pandas as pd\r\n",
                "import numpy as np\r\n",
                "import msd.hdf5_getters as getter\r\n",
                "\r\n",
                "# For example, the track 'TRADCBA128F92E7161'\r\n",
                "h5 = getter.open_h5_file_read('./msd/input/songs_data/TRADCBA128F92E7161.h5')\r\n",
                "meta_data_arr = np.array(h5.root.metadata.songs.cols)\r\n",
                "analysis_arr = np.array(h5.root.analysis.songs.cols)\r\n",
                "\r\n",
                "analysis_arr\r\n"
            ],
            "outputs": [],
            "metadata": {}
        },
        {
            "cell_type": "markdown",
            "source": [
                "3. From <http://millionsongdataset.com/musixmatch/>:\r\n",
                "   1. musiXmatch Dataset - lyrics for many of the MSD songs, in bags-of-words format (for each song, a word-count for a dictionary of the top 5,000 words across the set)"
            ],
            "metadata": {}
        },
        {
            "cell_type": "code",
            "execution_count": 4,
            "source": [
                "import lyricsgenius\r\n",
                "\r\n",
                "token = 'euu4CMPJm3RJRiAVI2RL_9LDxROSVcrClLw__J_k16Q7hWcfBdCUy0Uq3KPB-0PA'\r\n",
                "genius = lyricsgenius.Genius(token, skip_non_songs=True, excluded_terms=[\"(Remix)\", \"(Live)\"],\r\n",
                "    remove_section_headers=True, sleep_time=0, timeout=4, verbose=False)\r\n",
                "# artist = genius.search_artist('Billie Eilish', 10)\r\n",
                "\r\n",
                "lyrics = {}\r\n",
                "urls = {}\r\n",
                "for song_name, artist_name in songs:\r\n",
                "    try:\r\n",
                "        urls[song_name] = genius.search_song(song_name, artist_name, get_full_info=False, get_lyrics=False).url\r\n",
                "        # lyrics[song_name] = genius.search_song(song_name, artist_name, get_full_info=False).lyrics\r\n",
                "    except Exception as e:\r\n",
                "        # print(e)\r\n",
                "        # break\r\n",
                "        print(f'Could not find {song_name} by {artist_name}')\r\n"
            ],
            "outputs": [
                {
                    "output_type": "stream",
                    "name": "stdout",
                    "text": [
                        "Could not find How Do You Sleep? - Featuring Ludacris by Jesse McCartney\n"
                    ]
                }
            ],
            "metadata": {}
        },
        {
            "cell_type": "code",
            "execution_count": 7,
            "source": [
                "urls"
            ],
            "outputs": [
                {
                    "output_type": "execute_result",
                    "data": {
                        "text/plain": [
                            "{'Lose Control (feat. Ciara & Fat Man Scoop)': 'https://genius.com/Missy-elliott-lose-control-lyrics',\n",
                            " 'Toxic': 'https://genius.com/Britney-spears-toxic-lyrics',\n",
                            " 'Crazy In Love': 'https://genius.com/Beyonce-crazy-in-love-lyrics',\n",
                            " 'Rock Your Body': 'https://genius.com/Justin-timberlake-rock-your-body-lyrics',\n",
                            " \"It Wasn't Me\": 'https://genius.com/Shaggy-it-wasnt-me-lyrics',\n",
                            " 'Yeah!': 'https://genius.com/Usher-yeah-lyrics',\n",
                            " 'My Boo': 'https://genius.com/Usher-and-alicia-keys-my-boo-lyrics',\n",
                            " 'Buttons': 'https://genius.com/The-pussycat-dolls-buttons-lyrics',\n",
                            " 'Say My Name': 'https://genius.com/Destinys-child-say-my-name-lyrics',\n",
                            " 'Hey Ya! - Radio Mix / Club Mix': 'https://genius.com/Ego-trip-magazine-hip-hops-greatest-singles-by-year-lyrics',\n",
                            " 'Promiscuous': 'https://genius.com/Nelly-furtado-promiscuous-lyrics',\n",
                            " 'Right Where You Want Me - Radio Edit Version': 'https://genius.com/Jesse-mccartney-right-where-you-want-me-radio-edit-version-lyrics',\n",
                            " 'Beautiful Soul': 'https://genius.com/Jesse-mccartney-beautiful-soul-lyrics',\n",
                            " \"Leavin'\": 'https://genius.com/Jesse-mccartney-leavin-lyrics',\n",
                            " 'Me & U': 'https://genius.com/Cassie-me-and-u-lyrics',\n",
                            " 'Ice Box': 'https://genius.com/Omarion-ice-box-lyrics',\n",
                            " 'Sk8er Boi': 'https://genius.com/Avril-lavigne-sk8er-boi-lyrics',\n",
                            " 'Run It!': 'https://genius.com/Chris-brown-run-it-lyrics',\n",
                            " 'Check On It - feat. Bun B and Slim Thug': 'https://genius.com/Beyonce-check-on-it-lyrics',\n",
                            " \"Jumpin', Jumpin'\": 'https://genius.com/Destinys-child-jumpin-jumpin-lyrics',\n",
                            " 'Soak Up The Sun': 'https://genius.com/Sheryl-crow-soak-up-the-sun-lyrics',\n",
                            " 'Where Is The Love?': 'https://genius.com/Black-eyed-peas-where-is-the-love-lyrics',\n",
                            " \"Stacy's Mom\": 'https://genius.com/Bowling-for-soup-stacys-mom-lyrics',\n",
                            " 'Just The Girl': 'https://genius.com/The-click-five-just-the-girl-lyrics',\n",
                            " 'Yo (Excuse Me Miss)': 'https://genius.com/Chris-brown-yo-excuse-me-miss-lyrics',\n",
                            " 'Year 3000': 'https://genius.com/Jonas-brothers-year-3000-lyrics',\n",
                            " 'Lip Gloss': 'https://genius.com/Lil-mama-lip-gloss-lyrics',\n",
                            " 'Everytime We Touch - Radio Edit': 'https://genius.com/Cascada-everytime-we-touch-verano-radio-edit-lyrics',\n",
                            " 'Whatcha Say': 'https://genius.com/Jason-derulo-whatcha-say-lyrics',\n",
                            " 'Miss Independent': 'https://genius.com/Ne-yo-miss-independent-lyrics',\n",
                            " 'Party In The U.S.A.': 'https://genius.com/Miley-cyrus-party-in-the-usa-lyrics',\n",
                            " 'The Great Escape': 'https://genius.com/Boys-like-girls-the-great-escape-lyrics',\n",
                            " 'Replay': 'https://genius.com/Iyaz-replay-lyrics',\n",
                            " 'Forever': 'https://genius.com/Chris-brown-forever-lyrics',\n",
                            " 'Your Love Is My Drug': 'https://genius.com/Kesha-your-love-is-my-drug-lyrics',\n",
                            " 'Closer': 'https://genius.com/Ne-yo-closer-lyrics',\n",
                            " 'One Less Lonely Girl': 'https://genius.com/Justin-bieber-one-less-lonely-girl-lyrics',\n",
                            " 'Paper Planes': 'https://genius.com/Mia-paper-planes-lyrics',\n",
                            " 'Mr. Brightside': 'https://genius.com/The-killers-mr-brightside-lyrics',\n",
                            " 'All The Small Things': 'https://genius.com/Blink-182-all-the-small-things-lyrics',\n",
                            " 'Beep': 'https://genius.com/The-pussycat-dolls-beep-lyrics',\n",
                            " 'Somebody To Love': 'https://genius.com/Justin-bieber-somebody-to-love-lyrics',\n",
                            " 'Dirty Little Secret': 'https://genius.com/The-all-american-rejects-dirty-little-secret-lyrics',\n",
                            " 'Baby': 'https://genius.com/Justin-bieber-baby-lyrics',\n",
                            " 'A Thousand Miles': 'https://genius.com/Vanessa-carlton-a-thousand-miles-lyrics',\n",
                            " 'Livin on Sunday': 'https://genius.com/Cris-cab-livin-on-sunday-lyrics',\n",
                            " 'See You Again': 'https://genius.com/Miley-cyrus-see-you-again-lyrics',\n",
                            " 'This Is Me': 'https://genius.com/Demi-lovato-and-joe-jonas-this-is-me-lyrics',\n",
                            " 'My Happy Ending': 'https://genius.com/Avril-lavigne-my-happy-ending-lyrics',\n",
                            " 'Check Yes Juliet': 'https://genius.com/We-the-kings-check-yes-juliet-lyrics'}"
                        ]
                    },
                    "metadata": {},
                    "execution_count": 7
                }
            ],
            "metadata": {}
        }
    ],
    "metadata": {
        "orig_nbformat": 4,
        "language_info": {
            "name": "python",
            "version": "3.8.8",
            "mimetype": "text/x-python",
            "codemirror_mode": {
                "name": "ipython",
                "version": 3
            },
            "pygments_lexer": "ipython3",
            "nbconvert_exporter": "python",
            "file_extension": ".py"
        },
        "kernelspec": {
            "name": "python3",
            "display_name": "Python 3.8.8 64-bit ('base': conda)"
        },
        "interpreter": {
            "hash": "3c4c88167965e931c660cd0b1851e16f5ac6a35adaa2a16ee01eeab9f3dced50"
        }
    },
    "nbformat": 4,
    "nbformat_minor": 2
}