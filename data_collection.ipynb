{
    "cells": [
        {
            "cell_type": "markdown",
            "source": [
                "# Data Collection"
            ],
            "metadata": {}
        },
        {
            "cell_type": "markdown",
            "source": [
                "- Songs lyrics corpus"
            ],
            "metadata": {}
        },
        {
            "cell_type": "markdown",
            "source": [
                "The data used in this project is taken from [\"Spotify Million Playlist Dataset Challenge\"](https://www.aicrowd.com/challenges/spotify-million-playlist-dataset-challenge) - a continuation of a data science research challenge focused on music recommendation organized by Spotify (See [RecSys Challenge 2018](http://www.recsyschallenge.com/2018/)).\r\n",
                "\r\n",
                "Another music recommendation challenge that we've considered to base our work on is <https://www.kaggle.com/c/msdchallenge/overview>. However, due to its old age (2012), smaller scale and rigit data formats, the former dataset was preferred.\r\n",
                "\r\n",
                "Our data consists of:\r\n",
                "\r\n",
                "1. From <https://www.aicrowd.com/challenges/spotify-million-playlist-dataset-challenge/dataset_files>:\r\n",
                "\r\n",
                "spotify_million_playlist_dataset/ - 1 million playlists consisting of over 2 million unique tracks by nearly 300,000 artists. Created by US Spotify users between January 2010 and November 2017. **Used for both the training set and the test set**\r\n"
            ],
            "metadata": {}
        },
        {
            "cell_type": "code",
            "execution_count": null,
            "source": [],
            "outputs": [],
            "metadata": {}
        },
        {
            "cell_type": "markdown",
            "source": [
                "2. all_songs.json - all unique songs generated from the playlists dataset"
            ],
            "metadata": {}
        },
        {
            "cell_type": "code",
            "execution_count": 4,
            "source": [
                "import pandas as pd\r\n",
                "\r\n",
                "# Demonstration of the file's format\r\n",
                "all_songs_df = pd.read_json('./data/all_songs.json').T\r\n",
                "all_songs_df.head()"
            ],
            "outputs": [],
            "metadata": {}
        },
        {
            "cell_type": "markdown",
            "source": [
                "3. Retrieved from <https://api.spotify.com/>:\r\n",
                "\r\n",
                "audio_features.json - Various audio features collection we created out of the songs from the playlists dataset. Retrieved from Spotify public API."
            ],
            "metadata": {}
        },
        {
            "cell_type": "code",
            "execution_count": null,
            "source": [],
            "outputs": [],
            "metadata": {}
        },
        {
            "cell_type": "markdown",
            "source": [
                "4. Retrieved from <https://genius.com/>:\r\n",
                "\r\n",
                "lyrics_corpus.json - Lyrics collection of many of the songs from the playlists dataset. Scraped from Genius Lyrics site and public API."
            ],
            "metadata": {}
        },
        {
            "cell_type": "code",
            "execution_count": null,
            "source": [],
            "outputs": [],
            "metadata": {}
        }
    ],
    "metadata": {
        "orig_nbformat": 4,
        "language_info": {
            "name": "python",
            "version": "3.8.8",
            "mimetype": "text/x-python",
            "codemirror_mode": {
                "name": "ipython",
                "version": 3
            },
            "pygments_lexer": "ipython3",
            "nbconvert_exporter": "python",
            "file_extension": ".py"
        },
        "kernelspec": {
            "name": "python3",
            "display_name": "Python 3.8.8 64-bit ('base': conda)"
        },
        "interpreter": {
            "hash": "3c4c88167965e931c660cd0b1851e16f5ac6a35adaa2a16ee01eeab9f3dced50"
        }
    },
    "nbformat": 4,
    "nbformat_minor": 2
}